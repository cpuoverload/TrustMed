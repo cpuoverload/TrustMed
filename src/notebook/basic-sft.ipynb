{
 "cells": [
  {
   "cell_type": "markdown",
   "metadata": {},
   "source": [
    "## install"
   ]
  },
  {
   "cell_type": "code",
   "execution_count": 1,
   "metadata": {
    "scrolled": true
   },
   "outputs": [
    {
     "name": "stdout",
     "output_type": "stream",
     "text": [
      "Looking in indexes: http://mirrors.aliyun.com/pypi/simple\n",
      "Requirement already satisfied: unsloth==2025.2.14 in /root/miniconda3/envs/sft/lib/python3.10/site-packages (2025.2.14)\n",
      "Requirement already satisfied: unsloth_zoo==2025.2.7 in /root/miniconda3/envs/sft/lib/python3.10/site-packages (2025.2.7)\n",
      "Requirement already satisfied: python-dotenv in /root/miniconda3/envs/sft/lib/python3.10/site-packages (1.0.1)\n",
      "Requirement already satisfied: torch>=2.4.0 in /root/miniconda3/envs/sft/lib/python3.10/site-packages (from unsloth==2025.2.14) (2.6.0)\n",
      "Requirement already satisfied: xformers>=0.0.27.post2 in /root/miniconda3/envs/sft/lib/python3.10/site-packages (from unsloth==2025.2.14) (0.0.29.post3)\n",
      "Requirement already satisfied: bitsandbytes in /root/miniconda3/envs/sft/lib/python3.10/site-packages (from unsloth==2025.2.14) (0.45.3)\n",
      "Requirement already satisfied: triton>=3.0.0 in /root/miniconda3/envs/sft/lib/python3.10/site-packages (from unsloth==2025.2.14) (3.2.0)\n",
      "Requirement already satisfied: packaging in /root/miniconda3/envs/sft/lib/python3.10/site-packages (from unsloth==2025.2.14) (24.2)\n",
      "Requirement already satisfied: tyro in /root/miniconda3/envs/sft/lib/python3.10/site-packages (from unsloth==2025.2.14) (0.9.16)\n",
      "Requirement already satisfied: transformers!=4.47.0,>=4.46.1 in /root/miniconda3/envs/sft/lib/python3.10/site-packages (from unsloth==2025.2.14) (4.49.0)\n",
      "Requirement already satisfied: datasets>=2.16.0 in /root/miniconda3/envs/sft/lib/python3.10/site-packages (from unsloth==2025.2.14) (3.3.2)\n",
      "Requirement already satisfied: sentencepiece>=0.2.0 in /root/miniconda3/envs/sft/lib/python3.10/site-packages (from unsloth==2025.2.14) (0.2.0)\n",
      "Requirement already satisfied: tqdm in /root/miniconda3/envs/sft/lib/python3.10/site-packages (from unsloth==2025.2.14) (4.67.1)\n",
      "Requirement already satisfied: psutil in /root/miniconda3/envs/sft/lib/python3.10/site-packages (from unsloth==2025.2.14) (5.9.0)\n",
      "Requirement already satisfied: wheel>=0.42.0 in /root/miniconda3/envs/sft/lib/python3.10/site-packages (from unsloth==2025.2.14) (0.45.1)\n",
      "Requirement already satisfied: numpy in /root/miniconda3/envs/sft/lib/python3.10/site-packages (from unsloth==2025.2.14) (2.2.3)\n",
      "Requirement already satisfied: accelerate>=0.34.1 in /root/miniconda3/envs/sft/lib/python3.10/site-packages (from unsloth==2025.2.14) (1.4.0)\n",
      "Requirement already satisfied: trl!=0.9.0,!=0.9.1,!=0.9.2,!=0.9.3,>=0.7.9 in /root/miniconda3/envs/sft/lib/python3.10/site-packages (from unsloth==2025.2.14) (0.15.2)\n",
      "Requirement already satisfied: peft!=0.11.0,>=0.7.1 in /root/miniconda3/envs/sft/lib/python3.10/site-packages (from unsloth==2025.2.14) (0.14.0)\n",
      "Requirement already satisfied: protobuf<4.0.0 in /root/miniconda3/envs/sft/lib/python3.10/site-packages (from unsloth==2025.2.14) (3.20.3)\n",
      "Requirement already satisfied: huggingface_hub in /root/miniconda3/envs/sft/lib/python3.10/site-packages (from unsloth==2025.2.14) (0.29.2)\n",
      "Requirement already satisfied: hf_transfer in /root/miniconda3/envs/sft/lib/python3.10/site-packages (from unsloth==2025.2.14) (0.1.9)\n",
      "Requirement already satisfied: diffusers in /root/miniconda3/envs/sft/lib/python3.10/site-packages (from unsloth==2025.2.14) (0.32.2)\n",
      "Requirement already satisfied: torchvision in /root/miniconda3/envs/sft/lib/python3.10/site-packages (from unsloth==2025.2.14) (0.21.0)\n",
      "Requirement already satisfied: cut_cross_entropy in /root/miniconda3/envs/sft/lib/python3.10/site-packages (from unsloth_zoo==2025.2.7) (25.1.1)\n",
      "Requirement already satisfied: pillow in /root/miniconda3/envs/sft/lib/python3.10/site-packages (from unsloth_zoo==2025.2.7) (11.1.0)\n",
      "Requirement already satisfied: pyyaml in /root/miniconda3/envs/sft/lib/python3.10/site-packages (from accelerate>=0.34.1->unsloth==2025.2.14) (6.0.2)\n",
      "Requirement already satisfied: safetensors>=0.4.3 in /root/miniconda3/envs/sft/lib/python3.10/site-packages (from accelerate>=0.34.1->unsloth==2025.2.14) (0.5.3)\n",
      "Requirement already satisfied: filelock in /root/miniconda3/envs/sft/lib/python3.10/site-packages (from datasets>=2.16.0->unsloth==2025.2.14) (3.17.0)\n",
      "Requirement already satisfied: pyarrow>=15.0.0 in /root/miniconda3/envs/sft/lib/python3.10/site-packages (from datasets>=2.16.0->unsloth==2025.2.14) (19.0.1)\n",
      "Requirement already satisfied: dill<0.3.9,>=0.3.0 in /root/miniconda3/envs/sft/lib/python3.10/site-packages (from datasets>=2.16.0->unsloth==2025.2.14) (0.3.8)\n",
      "Requirement already satisfied: pandas in /root/miniconda3/envs/sft/lib/python3.10/site-packages (from datasets>=2.16.0->unsloth==2025.2.14) (2.2.3)\n",
      "Requirement already satisfied: requests>=2.32.2 in /root/miniconda3/envs/sft/lib/python3.10/site-packages (from datasets>=2.16.0->unsloth==2025.2.14) (2.32.3)\n",
      "Requirement already satisfied: xxhash in /root/miniconda3/envs/sft/lib/python3.10/site-packages (from datasets>=2.16.0->unsloth==2025.2.14) (3.5.0)\n",
      "Requirement already satisfied: multiprocess<0.70.17 in /root/miniconda3/envs/sft/lib/python3.10/site-packages (from datasets>=2.16.0->unsloth==2025.2.14) (0.70.16)\n",
      "Requirement already satisfied: fsspec<=2024.12.0,>=2023.1.0 in /root/miniconda3/envs/sft/lib/python3.10/site-packages (from fsspec[http]<=2024.12.0,>=2023.1.0->datasets>=2.16.0->unsloth==2025.2.14) (2024.12.0)\n",
      "Requirement already satisfied: aiohttp in /root/miniconda3/envs/sft/lib/python3.10/site-packages (from datasets>=2.16.0->unsloth==2025.2.14) (3.11.13)\n",
      "Requirement already satisfied: typing-extensions>=3.7.4.3 in /root/miniconda3/envs/sft/lib/python3.10/site-packages (from huggingface_hub->unsloth==2025.2.14) (4.12.2)\n",
      "Requirement already satisfied: networkx in /root/miniconda3/envs/sft/lib/python3.10/site-packages (from torch>=2.4.0->unsloth==2025.2.14) (3.4.2)\n",
      "Requirement already satisfied: jinja2 in /root/miniconda3/envs/sft/lib/python3.10/site-packages (from torch>=2.4.0->unsloth==2025.2.14) (3.1.5)\n",
      "Requirement already satisfied: nvidia-cuda-nvrtc-cu12==12.4.127 in /root/miniconda3/envs/sft/lib/python3.10/site-packages (from torch>=2.4.0->unsloth==2025.2.14) (12.4.127)\n",
      "Requirement already satisfied: nvidia-cuda-runtime-cu12==12.4.127 in /root/miniconda3/envs/sft/lib/python3.10/site-packages (from torch>=2.4.0->unsloth==2025.2.14) (12.4.127)\n",
      "Requirement already satisfied: nvidia-cuda-cupti-cu12==12.4.127 in /root/miniconda3/envs/sft/lib/python3.10/site-packages (from torch>=2.4.0->unsloth==2025.2.14) (12.4.127)\n",
      "Requirement already satisfied: nvidia-cudnn-cu12==9.1.0.70 in /root/miniconda3/envs/sft/lib/python3.10/site-packages (from torch>=2.4.0->unsloth==2025.2.14) (9.1.0.70)\n",
      "Requirement already satisfied: nvidia-cublas-cu12==12.4.5.8 in /root/miniconda3/envs/sft/lib/python3.10/site-packages (from torch>=2.4.0->unsloth==2025.2.14) (12.4.5.8)\n",
      "Requirement already satisfied: nvidia-cufft-cu12==11.2.1.3 in /root/miniconda3/envs/sft/lib/python3.10/site-packages (from torch>=2.4.0->unsloth==2025.2.14) (11.2.1.3)\n",
      "Requirement already satisfied: nvidia-curand-cu12==10.3.5.147 in /root/miniconda3/envs/sft/lib/python3.10/site-packages (from torch>=2.4.0->unsloth==2025.2.14) (10.3.5.147)\n",
      "Requirement already satisfied: nvidia-cusolver-cu12==11.6.1.9 in /root/miniconda3/envs/sft/lib/python3.10/site-packages (from torch>=2.4.0->unsloth==2025.2.14) (11.6.1.9)\n",
      "Requirement already satisfied: nvidia-cusparse-cu12==12.3.1.170 in /root/miniconda3/envs/sft/lib/python3.10/site-packages (from torch>=2.4.0->unsloth==2025.2.14) (12.3.1.170)\n",
      "Requirement already satisfied: nvidia-cusparselt-cu12==0.6.2 in /root/miniconda3/envs/sft/lib/python3.10/site-packages (from torch>=2.4.0->unsloth==2025.2.14) (0.6.2)\n",
      "Requirement already satisfied: nvidia-nccl-cu12==2.21.5 in /root/miniconda3/envs/sft/lib/python3.10/site-packages (from torch>=2.4.0->unsloth==2025.2.14) (2.21.5)\n",
      "Requirement already satisfied: nvidia-nvtx-cu12==12.4.127 in /root/miniconda3/envs/sft/lib/python3.10/site-packages (from torch>=2.4.0->unsloth==2025.2.14) (12.4.127)\n",
      "Requirement already satisfied: nvidia-nvjitlink-cu12==12.4.127 in /root/miniconda3/envs/sft/lib/python3.10/site-packages (from torch>=2.4.0->unsloth==2025.2.14) (12.4.127)\n",
      "Requirement already satisfied: sympy==1.13.1 in /root/miniconda3/envs/sft/lib/python3.10/site-packages (from torch>=2.4.0->unsloth==2025.2.14) (1.13.1)\n",
      "Requirement already satisfied: mpmath<1.4,>=1.1.0 in /root/miniconda3/envs/sft/lib/python3.10/site-packages (from sympy==1.13.1->torch>=2.4.0->unsloth==2025.2.14) (1.3.0)\n",
      "Requirement already satisfied: regex!=2019.12.17 in /root/miniconda3/envs/sft/lib/python3.10/site-packages (from transformers!=4.47.0,>=4.46.1->unsloth==2025.2.14) (2024.11.6)\n",
      "Requirement already satisfied: tokenizers<0.22,>=0.21 in /root/miniconda3/envs/sft/lib/python3.10/site-packages (from transformers!=4.47.0,>=4.46.1->unsloth==2025.2.14) (0.21.0)\n",
      "Requirement already satisfied: rich in /root/miniconda3/envs/sft/lib/python3.10/site-packages (from trl!=0.9.0,!=0.9.1,!=0.9.2,!=0.9.3,>=0.7.9->unsloth==2025.2.14) (13.9.4)\n",
      "Requirement already satisfied: importlib-metadata in /root/miniconda3/envs/sft/lib/python3.10/site-packages (from diffusers->unsloth==2025.2.14) (8.6.1)\n",
      "Requirement already satisfied: docstring-parser>=0.15 in /root/miniconda3/envs/sft/lib/python3.10/site-packages (from tyro->unsloth==2025.2.14) (0.16)\n",
      "Requirement already satisfied: shtab>=1.5.6 in /root/miniconda3/envs/sft/lib/python3.10/site-packages (from tyro->unsloth==2025.2.14) (1.7.1)\n",
      "Requirement already satisfied: typeguard>=4.0.0 in /root/miniconda3/envs/sft/lib/python3.10/site-packages (from tyro->unsloth==2025.2.14) (4.4.2)\n",
      "Requirement already satisfied: aiohappyeyeballs>=2.3.0 in /root/miniconda3/envs/sft/lib/python3.10/site-packages (from aiohttp->datasets>=2.16.0->unsloth==2025.2.14) (2.5.0)\n",
      "Requirement already satisfied: aiosignal>=1.1.2 in /root/miniconda3/envs/sft/lib/python3.10/site-packages (from aiohttp->datasets>=2.16.0->unsloth==2025.2.14) (1.3.2)\n",
      "Requirement already satisfied: async-timeout<6.0,>=4.0 in /root/miniconda3/envs/sft/lib/python3.10/site-packages (from aiohttp->datasets>=2.16.0->unsloth==2025.2.14) (5.0.1)\n",
      "Requirement already satisfied: attrs>=17.3.0 in /root/miniconda3/envs/sft/lib/python3.10/site-packages (from aiohttp->datasets>=2.16.0->unsloth==2025.2.14) (24.3.0)\n",
      "Requirement already satisfied: frozenlist>=1.1.1 in /root/miniconda3/envs/sft/lib/python3.10/site-packages (from aiohttp->datasets>=2.16.0->unsloth==2025.2.14) (1.5.0)\n",
      "Requirement already satisfied: multidict<7.0,>=4.5 in /root/miniconda3/envs/sft/lib/python3.10/site-packages (from aiohttp->datasets>=2.16.0->unsloth==2025.2.14) (6.1.0)\n",
      "Requirement already satisfied: propcache>=0.2.0 in /root/miniconda3/envs/sft/lib/python3.10/site-packages (from aiohttp->datasets>=2.16.0->unsloth==2025.2.14) (0.3.0)\n",
      "Requirement already satisfied: yarl<2.0,>=1.17.0 in /root/miniconda3/envs/sft/lib/python3.10/site-packages (from aiohttp->datasets>=2.16.0->unsloth==2025.2.14) (1.18.3)\n",
      "Requirement already satisfied: charset-normalizer<4,>=2 in /root/miniconda3/envs/sft/lib/python3.10/site-packages (from requests>=2.32.2->datasets>=2.16.0->unsloth==2025.2.14) (3.3.2)\n",
      "Requirement already satisfied: idna<4,>=2.5 in /root/miniconda3/envs/sft/lib/python3.10/site-packages (from requests>=2.32.2->datasets>=2.16.0->unsloth==2025.2.14) (3.7)\n",
      "Requirement already satisfied: urllib3<3,>=1.21.1 in /root/miniconda3/envs/sft/lib/python3.10/site-packages (from requests>=2.32.2->datasets>=2.16.0->unsloth==2025.2.14) (2.3.0)\n",
      "Requirement already satisfied: certifi>=2017.4.17 in /root/miniconda3/envs/sft/lib/python3.10/site-packages (from requests>=2.32.2->datasets>=2.16.0->unsloth==2025.2.14) (2025.1.31)\n",
      "Requirement already satisfied: markdown-it-py>=2.2.0 in /root/miniconda3/envs/sft/lib/python3.10/site-packages (from rich->trl!=0.9.0,!=0.9.1,!=0.9.2,!=0.9.3,>=0.7.9->unsloth==2025.2.14) (3.0.0)\n",
      "Requirement already satisfied: pygments<3.0.0,>=2.13.0 in /root/miniconda3/envs/sft/lib/python3.10/site-packages (from rich->trl!=0.9.0,!=0.9.1,!=0.9.2,!=0.9.3,>=0.7.9->unsloth==2025.2.14) (2.15.1)\n",
      "Requirement already satisfied: zipp>=3.20 in /root/miniconda3/envs/sft/lib/python3.10/site-packages (from importlib-metadata->diffusers->unsloth==2025.2.14) (3.21.0)\n",
      "Requirement already satisfied: MarkupSafe>=2.0 in /root/miniconda3/envs/sft/lib/python3.10/site-packages (from jinja2->torch>=2.4.0->unsloth==2025.2.14) (3.0.2)\n",
      "Requirement already satisfied: python-dateutil>=2.8.2 in /root/miniconda3/envs/sft/lib/python3.10/site-packages (from pandas->datasets>=2.16.0->unsloth==2025.2.14) (2.9.0.post0)\n",
      "Requirement already satisfied: pytz>=2020.1 in /root/miniconda3/envs/sft/lib/python3.10/site-packages (from pandas->datasets>=2.16.0->unsloth==2025.2.14) (2025.1)\n",
      "Requirement already satisfied: tzdata>=2022.7 in /root/miniconda3/envs/sft/lib/python3.10/site-packages (from pandas->datasets>=2.16.0->unsloth==2025.2.14) (2025.1)\n",
      "Requirement already satisfied: mdurl~=0.1 in /root/miniconda3/envs/sft/lib/python3.10/site-packages (from markdown-it-py>=2.2.0->rich->trl!=0.9.0,!=0.9.1,!=0.9.2,!=0.9.3,>=0.7.9->unsloth==2025.2.14) (0.1.2)\n",
      "Requirement already satisfied: six>=1.5 in /root/miniconda3/envs/sft/lib/python3.10/site-packages (from python-dateutil>=2.8.2->pandas->datasets>=2.16.0->unsloth==2025.2.14) (1.16.0)\n",
      "\u001b[33mWARNING: Running pip as the 'root' user can result in broken permissions and conflicting behaviour with the system package manager, possibly rendering your system unusable. It is recommended to use a virtual environment instead: https://pip.pypa.io/warnings/venv. Use the --root-user-action option if you know what you are doing and want to suppress this warning.\u001b[0m\u001b[33m\n",
      "\u001b[0m"
     ]
    }
   ],
   "source": [
    "# conda activate sft\n",
    "\n",
    "# 最新版有 bug，先用旧版本\n",
    "# https://github.com/unslothai/unsloth/issues/1925\n",
    "!pip install unsloth==2025.2.14 unsloth_zoo==2025.2.7 python-dotenv"
   ]
  },
  {
   "cell_type": "markdown",
   "metadata": {},
   "source": [
    "## load model"
   ]
  },
  {
   "cell_type": "code",
   "execution_count": 2,
   "metadata": {},
   "outputs": [
    {
     "name": "stdout",
     "output_type": "stream",
     "text": [
      "🦥 Unsloth: Will patch your computer to enable 2x faster free finetuning.\n",
      "🦥 Unsloth Zoo will now patch everything to make training faster!\n",
      "==((====))==  Unsloth 2025.2.14: Fast Llama patching. Transformers: 4.49.0.\n",
      "   \\\\   /|    GPU: NVIDIA GeForce RTX 4090. Max memory: 23.65 GB. Platform: Linux.\n",
      "O^O/ \\_/ \\    Torch: 2.6.0+cu124. CUDA: 8.9. CUDA Toolkit: 12.4. Triton: 3.2.0\n",
      "\\        /    Bfloat16 = TRUE. FA [Xformers = 0.0.29.post3. FA2 = False]\n",
      " \"-____-\"     Free Apache license: http://github.com/unslothai/unsloth\n",
      "Unsloth: Fast downloading is enabled - ignore downloading bars which are red colored!\n"
     ]
    },
    {
     "data": {
      "application/vnd.jupyter.widget-view+json": {
       "model_id": "ff6e5e7b90f6450f9b9f1e01337e63b8",
       "version_major": 2,
       "version_minor": 0
      },
      "text/plain": [
       "Loading checkpoint shards:   0%|          | 0/4 [00:00<?, ?it/s]"
      ]
     },
     "metadata": {},
     "output_type": "display_data"
    },
    {
     "name": "stdout",
     "output_type": "stream",
     "text": [
      "/root/autodl-tmp/huggingface/hub/models--meta-llama--Llama-3.1-8B-Instruct/snapshots/0e9e39f249a16976918f6564b8830bc894c89659 does not have a padding token! Will use pad_token = <|finetune_right_pad_id|>.\n"
     ]
    }
   ],
   "source": [
    "from unsloth import FastLanguageModel\n",
    "import torch\n",
    "from dotenv import load_dotenv\n",
    "\n",
    "# HF_TOKEN\n",
    "load_dotenv(\".env\")\n",
    "\n",
    "max_seq_length = 2048\n",
    "dtype = None # None for auto detection. Float16 for Tesla T4, V100, Bfloat16 for Ampere+\n",
    "# load_in_4bit = True # Use 4bit quantization to reduce memory usage. Can be False.\n",
    "load_in_4bit = False\n",
    "\n",
    "model, tokenizer = FastLanguageModel.from_pretrained(\n",
    "    # 下载报错：\n",
    "    # 1. 不学术加速：超时\n",
    "    # 2. 设置学术加速：Failed too many failures in parallel (3): Request: error sending request for url (https://cdn-lfs-us-1.hf.co/...，域名是 hf.co，是官网，怀疑是 AutoDL 梯子不行\n",
    "    # 3. 设置 HF_HF_ENDPOINT：超时，还是走的官网域名，不是镜像站，有 bug，见 https://github.com/unslothai/unsloth/issues/1353\n",
    "    # model_name = \"unsloth/Meta-Llama-3.1-8B\",\n",
    "\n",
    "    # 解决下载报错：只加载本地模型\n",
    "    # https://github.com/unslothai/unsloth/issues/495#issuecomment-2134831390\n",
    "    local_files_only = True,\n",
    "    \n",
    "    # 加载本地模型报错，可能和 transformers 版本有关系，但现在已经是最新版了，不确定原因\n",
    "    # OSError: Error no file named pytorch_model.bin, model.safetensors, tf_model.h5, model.ckpt.index or flax_model.msgpack found in directory /root/autodl-tmp/huggingface/hub/models--meta-llama--Llama-3.1-8B-Instruct.\n",
    "    # model_name = \"/root/autodl-tmp/huggingface/hub/models--meta-llama--Llama-3.1-8B-Instruct\",\n",
    "    \n",
    "    # 加载本地模型：指定 snapshots，成功了\n",
    "    model_name = \"/root/autodl-tmp/huggingface/hub/models--meta-llama--Llama-3.1-8B-Instruct/snapshots/0e9e39f249a16976918f6564b8830bc894c89659\",\n",
    "    \n",
    "    max_seq_length = max_seq_length,\n",
    "    dtype = dtype,\n",
    "    load_in_4bit = load_in_4bit,\n",
    ")"
   ]
  },
  {
   "cell_type": "code",
   "execution_count": 3,
   "metadata": {},
   "outputs": [
    {
     "name": "stderr",
     "output_type": "stream",
     "text": [
      "Unsloth 2025.2.14 patched 32 layers with 32 QKV layers, 32 O layers and 32 MLP layers.\n"
     ]
    }
   ],
   "source": [
    "model = FastLanguageModel.get_peft_model(\n",
    "    model,\n",
    "    r = 16,\n",
    "    target_modules = [\"q_proj\", \"k_proj\", \"v_proj\", \"o_proj\",\n",
    "                      \"gate_proj\", \"up_proj\", \"down_proj\",],\n",
    "    lora_alpha = 16,\n",
    "    lora_dropout = 0,\n",
    "    bias = \"none\",\n",
    "    use_gradient_checkpointing = \"unsloth\",\n",
    "    random_state = 3407,\n",
    "    use_rslora = False,\n",
    "    loftq_config = None,\n",
    ")"
   ]
  },
  {
   "cell_type": "markdown",
   "metadata": {},
   "source": [
    "## prepare data"
   ]
  },
  {
   "cell_type": "code",
   "execution_count": 4,
   "metadata": {},
   "outputs": [],
   "source": [
    "alpaca_prompt = \"\"\"Below is an instruction that describes a task, paired with an input that provides further context. Write a response that appropriately completes the request.\n",
    "\n",
    "### Instruction:\n",
    "{}\n",
    "\n",
    "### Input:\n",
    "{}\n",
    "\n",
    "### Response:\n",
    "{}\"\"\""
   ]
  },
  {
   "cell_type": "code",
   "execution_count": 5,
   "metadata": {},
   "outputs": [],
   "source": [
    "def formatting_prompts_func(examples):\n",
    "    instructions = examples[\"instruction\"]\n",
    "    inputs       = examples[\"input\"]\n",
    "    outputs      = examples[\"output\"]\n",
    "    texts = []\n",
    "    for instruction, input, output in zip(instructions, inputs, outputs):\n",
    "        # Must add eos_token, otherwise your generation will go on forever!\n",
    "        text = alpaca_prompt.format(instruction, input, output) + tokenizer.eos_token\n",
    "        texts.append(text)\n",
    "    return { \"text\" : texts, }"
   ]
  },
  {
   "cell_type": "code",
   "execution_count": 6,
   "metadata": {},
   "outputs": [],
   "source": [
    "from datasets import load_dataset\n",
    "\n",
    "dataset = load_dataset(\"yahma/alpaca-cleaned\", split = \"train\")\n",
    "dataset = dataset.map(formatting_prompts_func, batched = True)"
   ]
  },
  {
   "cell_type": "markdown",
   "metadata": {},
   "source": [
    "## train"
   ]
  },
  {
   "cell_type": "code",
   "execution_count": 7,
   "metadata": {},
   "outputs": [
    {
     "name": "stderr",
     "output_type": "stream",
     "text": [
      "No label_names provided for model class `PeftModelForCausalLM`. Since `PeftModel` hides base models input arguments, if label_names is not given, label_names can't be set automatically within `Trainer`. Note that empty label_names list will be used instead.\n"
     ]
    }
   ],
   "source": [
    "from trl import SFTTrainer\n",
    "from transformers import TrainingArguments\n",
    "from unsloth import is_bfloat16_supported\n",
    "\n",
    "trainer = SFTTrainer(\n",
    "    model = model,\n",
    "    tokenizer = tokenizer,\n",
    "    train_dataset = dataset,\n",
    "    dataset_text_field = \"text\",\n",
    "    max_seq_length = max_seq_length,\n",
    "    # dataset_num_proc = 2,\n",
    "    dataset_num_proc = 6,\n",
    "    packing = False, # Can make training 5x faster for short sequences.\n",
    "    args = TrainingArguments(\n",
    "        per_device_train_batch_size = 2,\n",
    "        gradient_accumulation_steps = 4,\n",
    "        warmup_steps = 5,\n",
    "        # num_train_epochs = 1, # Set this for 1 full training run.\n",
    "        max_steps = 60,\n",
    "        learning_rate = 2e-4,\n",
    "        fp16 = not is_bfloat16_supported(),\n",
    "        bf16 = is_bfloat16_supported(),\n",
    "        logging_steps = 1,\n",
    "        optim = \"adamw_8bit\",\n",
    "        weight_decay = 0.01,\n",
    "        lr_scheduler_type = \"linear\",\n",
    "        seed = 3407,\n",
    "        output_dir = \"outputs\",\n",
    "        report_to = \"none\", # Use this for WandB etc\n",
    "    ),\n",
    ")"
   ]
  },
  {
   "cell_type": "code",
   "execution_count": 8,
   "metadata": {
    "scrolled": true
   },
   "outputs": [
    {
     "name": "stderr",
     "output_type": "stream",
     "text": [
      "==((====))==  Unsloth - 2x faster free finetuning | Num GPUs = 1\n",
      "   \\\\   /|    Num examples = 51,760 | Num Epochs = 1\n",
      "O^O/ \\_/ \\    Batch size per device = 2 | Gradient Accumulation steps = 4\n",
      "\\        /    Total batch size = 8 | Total steps = 60\n",
      " \"-____-\"     Number of trainable parameters = 41,943,040\n"
     ]
    },
    {
     "data": {
      "text/html": [
       "\n",
       "    <div>\n",
       "      \n",
       "      <progress value='60' max='60' style='width:300px; height:20px; vertical-align: middle;'></progress>\n",
       "      [60/60 01:27, Epoch 0/1]\n",
       "    </div>\n",
       "    <table border=\"1\" class=\"dataframe\">\n",
       "  <thead>\n",
       " <tr style=\"text-align: left;\">\n",
       "      <th>Step</th>\n",
       "      <th>Training Loss</th>\n",
       "    </tr>\n",
       "  </thead>\n",
       "  <tbody>\n",
       "    <tr>\n",
       "      <td>1</td>\n",
       "      <td>1.567500</td>\n",
       "    </tr>\n",
       "    <tr>\n",
       "      <td>2</td>\n",
       "      <td>1.959800</td>\n",
       "    </tr>\n",
       "    <tr>\n",
       "      <td>3</td>\n",
       "      <td>1.670700</td>\n",
       "    </tr>\n",
       "    <tr>\n",
       "      <td>4</td>\n",
       "      <td>1.883200</td>\n",
       "    </tr>\n",
       "    <tr>\n",
       "      <td>5</td>\n",
       "      <td>1.705500</td>\n",
       "    </tr>\n",
       "    <tr>\n",
       "      <td>6</td>\n",
       "      <td>1.487800</td>\n",
       "    </tr>\n",
       "    <tr>\n",
       "      <td>7</td>\n",
       "      <td>1.083800</td>\n",
       "    </tr>\n",
       "    <tr>\n",
       "      <td>8</td>\n",
       "      <td>1.251100</td>\n",
       "    </tr>\n",
       "    <tr>\n",
       "      <td>9</td>\n",
       "      <td>1.158700</td>\n",
       "    </tr>\n",
       "    <tr>\n",
       "      <td>10</td>\n",
       "      <td>1.101200</td>\n",
       "    </tr>\n",
       "    <tr>\n",
       "      <td>11</td>\n",
       "      <td>0.903800</td>\n",
       "    </tr>\n",
       "    <tr>\n",
       "      <td>12</td>\n",
       "      <td>1.017200</td>\n",
       "    </tr>\n",
       "    <tr>\n",
       "      <td>13</td>\n",
       "      <td>0.867600</td>\n",
       "    </tr>\n",
       "    <tr>\n",
       "      <td>14</td>\n",
       "      <td>1.050100</td>\n",
       "    </tr>\n",
       "    <tr>\n",
       "      <td>15</td>\n",
       "      <td>0.877500</td>\n",
       "    </tr>\n",
       "    <tr>\n",
       "      <td>16</td>\n",
       "      <td>0.842000</td>\n",
       "    </tr>\n",
       "    <tr>\n",
       "      <td>17</td>\n",
       "      <td>0.986600</td>\n",
       "    </tr>\n",
       "    <tr>\n",
       "      <td>18</td>\n",
       "      <td>1.336700</td>\n",
       "    </tr>\n",
       "    <tr>\n",
       "      <td>19</td>\n",
       "      <td>1.040700</td>\n",
       "    </tr>\n",
       "    <tr>\n",
       "      <td>20</td>\n",
       "      <td>0.860600</td>\n",
       "    </tr>\n",
       "    <tr>\n",
       "      <td>21</td>\n",
       "      <td>0.920000</td>\n",
       "    </tr>\n",
       "    <tr>\n",
       "      <td>22</td>\n",
       "      <td>0.967800</td>\n",
       "    </tr>\n",
       "    <tr>\n",
       "      <td>23</td>\n",
       "      <td>0.996700</td>\n",
       "    </tr>\n",
       "    <tr>\n",
       "      <td>24</td>\n",
       "      <td>0.987100</td>\n",
       "    </tr>\n",
       "    <tr>\n",
       "      <td>25</td>\n",
       "      <td>1.050100</td>\n",
       "    </tr>\n",
       "    <tr>\n",
       "      <td>26</td>\n",
       "      <td>1.026500</td>\n",
       "    </tr>\n",
       "    <tr>\n",
       "      <td>27</td>\n",
       "      <td>1.067500</td>\n",
       "    </tr>\n",
       "    <tr>\n",
       "      <td>28</td>\n",
       "      <td>0.955000</td>\n",
       "    </tr>\n",
       "    <tr>\n",
       "      <td>29</td>\n",
       "      <td>0.940400</td>\n",
       "    </tr>\n",
       "    <tr>\n",
       "      <td>30</td>\n",
       "      <td>0.804600</td>\n",
       "    </tr>\n",
       "    <tr>\n",
       "      <td>31</td>\n",
       "      <td>0.868300</td>\n",
       "    </tr>\n",
       "    <tr>\n",
       "      <td>32</td>\n",
       "      <td>0.868300</td>\n",
       "    </tr>\n",
       "    <tr>\n",
       "      <td>33</td>\n",
       "      <td>1.005000</td>\n",
       "    </tr>\n",
       "    <tr>\n",
       "      <td>34</td>\n",
       "      <td>0.877600</td>\n",
       "    </tr>\n",
       "    <tr>\n",
       "      <td>35</td>\n",
       "      <td>1.001000</td>\n",
       "    </tr>\n",
       "    <tr>\n",
       "      <td>36</td>\n",
       "      <td>0.855400</td>\n",
       "    </tr>\n",
       "    <tr>\n",
       "      <td>37</td>\n",
       "      <td>0.828200</td>\n",
       "    </tr>\n",
       "    <tr>\n",
       "      <td>38</td>\n",
       "      <td>0.734400</td>\n",
       "    </tr>\n",
       "    <tr>\n",
       "      <td>39</td>\n",
       "      <td>1.062800</td>\n",
       "    </tr>\n",
       "    <tr>\n",
       "      <td>40</td>\n",
       "      <td>1.201400</td>\n",
       "    </tr>\n",
       "    <tr>\n",
       "      <td>41</td>\n",
       "      <td>0.897800</td>\n",
       "    </tr>\n",
       "    <tr>\n",
       "      <td>42</td>\n",
       "      <td>0.972600</td>\n",
       "    </tr>\n",
       "    <tr>\n",
       "      <td>43</td>\n",
       "      <td>0.897100</td>\n",
       "    </tr>\n",
       "    <tr>\n",
       "      <td>44</td>\n",
       "      <td>0.893800</td>\n",
       "    </tr>\n",
       "    <tr>\n",
       "      <td>45</td>\n",
       "      <td>0.968800</td>\n",
       "    </tr>\n",
       "    <tr>\n",
       "      <td>46</td>\n",
       "      <td>0.948600</td>\n",
       "    </tr>\n",
       "    <tr>\n",
       "      <td>47</td>\n",
       "      <td>0.798500</td>\n",
       "    </tr>\n",
       "    <tr>\n",
       "      <td>48</td>\n",
       "      <td>1.254200</td>\n",
       "    </tr>\n",
       "    <tr>\n",
       "      <td>49</td>\n",
       "      <td>0.853100</td>\n",
       "    </tr>\n",
       "    <tr>\n",
       "      <td>50</td>\n",
       "      <td>1.091900</td>\n",
       "    </tr>\n",
       "    <tr>\n",
       "      <td>51</td>\n",
       "      <td>1.035900</td>\n",
       "    </tr>\n",
       "    <tr>\n",
       "      <td>52</td>\n",
       "      <td>0.906600</td>\n",
       "    </tr>\n",
       "    <tr>\n",
       "      <td>53</td>\n",
       "      <td>0.979400</td>\n",
       "    </tr>\n",
       "    <tr>\n",
       "      <td>54</td>\n",
       "      <td>1.210900</td>\n",
       "    </tr>\n",
       "    <tr>\n",
       "      <td>55</td>\n",
       "      <td>0.803700</td>\n",
       "    </tr>\n",
       "    <tr>\n",
       "      <td>56</td>\n",
       "      <td>1.013700</td>\n",
       "    </tr>\n",
       "    <tr>\n",
       "      <td>57</td>\n",
       "      <td>0.894700</td>\n",
       "    </tr>\n",
       "    <tr>\n",
       "      <td>58</td>\n",
       "      <td>0.786800</td>\n",
       "    </tr>\n",
       "    <tr>\n",
       "      <td>59</td>\n",
       "      <td>0.856700</td>\n",
       "    </tr>\n",
       "    <tr>\n",
       "      <td>60</td>\n",
       "      <td>0.913400</td>\n",
       "    </tr>\n",
       "  </tbody>\n",
       "</table><p>"
      ],
      "text/plain": [
       "<IPython.core.display.HTML object>"
      ]
     },
     "metadata": {},
     "output_type": "display_data"
    }
   ],
   "source": [
    "trainer_stats = trainer.train()"
   ]
  },
  {
   "cell_type": "markdown",
   "metadata": {},
   "source": [
    "## inference"
   ]
  },
  {
   "cell_type": "code",
   "execution_count": 9,
   "metadata": {},
   "outputs": [
    {
     "data": {
      "text/plain": [
       "['<|begin_of_text|>Below is an instruction that describes a task, paired with an input that provides further context. Write a response that appropriately completes the request.\\n\\n### Instruction:\\nContinue the fibonnaci sequence.\\n\\n### Input:\\n1, 1, 2, 3, 5, 8\\n\\n### Response:\\nThe next number in the Fibonacci sequence is 13. The sequence would be 1, 1, 2, 3, 5, 8, 13.<|eot_id|>']"
      ]
     },
     "execution_count": 9,
     "metadata": {},
     "output_type": "execute_result"
    }
   ],
   "source": [
    "FastLanguageModel.for_inference(model) # Enable native 2x faster inference\n",
    "inputs = tokenizer(\n",
    "[\n",
    "    alpaca_prompt.format(\n",
    "        \"Continue the fibonnaci sequence.\", # instruction\n",
    "        \"1, 1, 2, 3, 5, 8\", # input\n",
    "        \"\", # output - leave this blank for generation!\n",
    "    )\n",
    "], return_tensors = \"pt\").to(\"cuda\")\n",
    "\n",
    "outputs = model.generate(**inputs, max_new_tokens = 64, use_cache = True)\n",
    "tokenizer.batch_decode(outputs)"
   ]
  },
  {
   "cell_type": "markdown",
   "metadata": {},
   "source": [
    "## saving model"
   ]
  },
  {
   "cell_type": "code",
   "execution_count": 10,
   "metadata": {},
   "outputs": [
    {
     "data": {
      "text/plain": [
       "('/root/autodl-tmp/saved_model/lora_model/tokenizer_config.json',\n",
       " '/root/autodl-tmp/saved_model/lora_model/special_tokens_map.json',\n",
       " '/root/autodl-tmp/saved_model/lora_model/tokenizer.json')"
      ]
     },
     "execution_count": 10,
     "metadata": {},
     "output_type": "execute_result"
    }
   ],
   "source": [
    "# save only lora\n",
    "model.save_pretrained(\"/root/autodl-tmp/saved_model/lora_model\")\n",
    "tokenizer.save_pretrained(\"/root/autodl-tmp/saved_model/lora_model\")"
   ]
  },
  {
   "cell_type": "code",
   "execution_count": 11,
   "metadata": {},
   "outputs": [
    {
     "name": "stdout",
     "output_type": "stream",
     "text": [
      "Unsloth: Merging 4bit and LoRA weights to 16bit...\n",
      "Unsloth: Will use up to 699.27 out of 1007.51 RAM for saving.\n",
      "Unsloth: Saving model... This might take 5 minutes ...\n"
     ]
    },
    {
     "name": "stderr",
     "output_type": "stream",
     "text": [
      "  3%|████▌                                                                                                                                           | 1/32 [00:00<00:03,  8.03it/s]\n",
      "We will save to Disk and not RAM now.\n",
      "100%|███████████████████████████████████████████████████████████████████████████████████████████████████████████████████████████████████████████████| 32/32 [00:17<00:00,  1.86it/s]\n"
     ]
    },
    {
     "name": "stdout",
     "output_type": "stream",
     "text": [
      "Unsloth: Saving tokenizer... Done.\n",
      "Done.\n"
     ]
    }
   ],
   "source": [
    "# merge and save 16bit\n",
    "model.save_pretrained_merged(\"/root/autodl-tmp/saved_model/model\", tokenizer, save_method = \"merged_16bit\")"
   ]
  },
  {
   "cell_type": "code",
   "execution_count": null,
   "metadata": {},
   "outputs": [],
   "source": []
  }
 ],
 "metadata": {
  "kernelspec": {
   "display_name": "Python 3 (ipykernel)",
   "language": "python",
   "name": "python3"
  },
  "language_info": {
   "codemirror_mode": {
    "name": "ipython",
    "version": 3
   },
   "file_extension": ".py",
   "mimetype": "text/x-python",
   "name": "python",
   "nbconvert_exporter": "python",
   "pygments_lexer": "ipython3",
   "version": "3.10.16"
  }
 },
 "nbformat": 4,
 "nbformat_minor": 4
}
